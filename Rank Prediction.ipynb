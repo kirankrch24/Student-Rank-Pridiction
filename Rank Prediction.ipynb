{
 "cells": [
  {
   "cell_type": "markdown",
   "id": "97f6fc44",
   "metadata": {},
   "source": [
    "# Rank Prediction \n",
    "\n",
    "It was a warm summer evening in Ahmedabad in 2015, and my brother and I were sitting in our room, lost in thought. I was thinking about my future, contemplating the results of my Board exams and JEE Main exams, which had just been released.\n",
    "\n",
    "As I sat there, deep in thought, my brother broke the silence.\n",
    "\n",
    "\"What do you think about which college you're going to apply to?\" he asked, as he continued to work on his coding assignments in Java.\n",
    "\n",
    "\"I don't know,\" I replied. \"I'll apply to whichever ones I'm eligible for.\"\n",
    "\n",
    "My brother seemed to sense my uncertainty and pressed further.\n",
    "\n",
    "\"What do you think your merit number will be based on your Board exam and JEE Main scores?\" he asked.\n",
    "\n",
    "\"I don't know, brother,\" I replied again. \"But I can calculate it.\"\n",
    "\n",
    "My brother was intrigued by my response and asked me to develop an algorithm to calculate my merit number. I thought for a moment and then i tought i can calculate using a linear equation with one variable.\n",
    "\n",
    "\"We have last year's data,\" I explained, referring to the student 2014.pdf file we had. \"It shows which merit number each student received based on their Board exam and JEE Main scores. So, I  calculated the slope 'm' and 'c' on paper from this data and then determine my rank accordingly.\"\n",
    "\n",
    "My brother was impressed by my idea and decided to write a Java program to predict my rank using the linear equation with one variable. We worked together, and with his coding skills and my suggested algorithm, we were able to determine my predicted rank."
   ]
  },
  {
   "cell_type": "markdown",
   "id": "96cf3769",
   "metadata": {},
   "source": [
    "## Data Information"
   ]
  },
  {
   "cell_type": "markdown",
   "id": "c6a68238",
   "metadata": {},
   "source": [
    "We possess the data of students from the year 2014, which is documented in a file named 'student 2014.pdf'.\n",
    "\n",
    "Every year around 56,000 thousand student enroll in Gujarat Located engineering colleges in Gujarat,India.\n",
    "\n",
    "This data indicates the percentile ranking achieved by each student based on their scores in the JEE Main and Board examinations.\n",
    "\n",
    "The Merit Percentile is a composite score derived from 60% of the Board percentile and 40% of the JEE Main percentile.\n",
    "\n",
    "The ranking of the students is determined based on the Merit Mark, which is used to assign their respective ranks. Subsequently, the students select engineering institutes in Gujarat, India based on their rank."
   ]
  },
  {
   "cell_type": "markdown",
   "id": "51503e99",
   "metadata": {},
   "source": [
    "## Take values \n",
    "\n",
    "I'm taking two records from \"student 2014.pdf\".\n",
    "\n",
    "\n",
    "\n",
    "| Record | Merit Number | Merit Percentile | Board Percentile | JEE Main percentile |\n",
    "|----------|----------|----------|----------|----------|\n",
    "|  1 |10000 | 84.84442058 | 87.95556955 | 80.17769713 |\n",
    "|  2 | 20000 | 71.50631167 | 70.8503965 | 72.49018442 |\n",
    "\n"
   ]
  },
  {
   "cell_type": "markdown",
   "id": "4750705d",
   "metadata": {},
   "source": [
    "## Calculate slope \"m\""
   ]
  },
  {
   "cell_type": "markdown",
   "id": "66a28069",
   "metadata": {},
   "source": [
    "\"I will be using the linear equation, '**y = mx + c**', to predict the rank of the candidates. \n",
    "\n",
    "The assumption made is that there is a linear relationship between merit percentile and merit number, ( i think it comes from my previous experience studying algebra for two years in high school before enrolling in engineering college). \n",
    "\n",
    "I took two records, one with 'Merit Number 10000' and the other with 'Merit Number 20000'.\n",
    "\n",
    "Assigning \n",
    "\n",
    "y1 = 10000, x1 = 84.84442058\n",
    "\n",
    "\n",
    "and \n",
    "\n",
    "y2 = 20000, x2 = 71.50631167\n",
    "\n",
    "\n",
    "now want to calculate \"m\" which slope, \n",
    "\n",
    "m = (y2-y1) / (x2-x1)\n"
   ]
  },
  {
   "cell_type": "code",
   "execution_count": 55,
   "id": "b1644d5f",
   "metadata": {},
   "outputs": [],
   "source": [
    "# asigning variable for first record.\n",
    "y1 = 10000\n",
    "x1 = 84.84442058\n",
    "\n",
    "# asigning variable for second record.\n",
    "y2 = 20000\n",
    "x2 = 71.50631167"
   ]
  },
  {
   "cell_type": "code",
   "execution_count": 56,
   "id": "b6e8a769",
   "metadata": {},
   "outputs": [
    {
     "name": "stdout",
     "output_type": "stream",
     "text": [
      "Slope m : -749.7314699914231\n"
     ]
    }
   ],
   "source": [
    "# Calculating slope\n",
    "m = (y2-y1)/(x2-x1)\n",
    "print(\"Slope m : \"  + str(m))"
   ]
  },
  {
   "cell_type": "markdown",
   "id": "491e10f2",
   "metadata": {},
   "source": [
    "## Calculate y-interscept"
   ]
  },
  {
   "cell_type": "markdown",
   "id": "f6d9eef8",
   "metadata": {},
   "source": [
    "Got slope value \"m\" from last year student records data.\n",
    "\n",
    "now calculate y-intercept\n",
    "\n",
    "**y = m*x + c** \n",
    "\n",
    "we can write above equation as below\n",
    "\n",
    "**c = y - m*x**"
   ]
  },
  {
   "cell_type": "code",
   "execution_count": 57,
   "id": "76db76ee",
   "metadata": {},
   "outputs": [
    {
     "name": "stdout",
     "output_type": "stream",
     "text": [
      "73610.53216201396\n"
     ]
    }
   ],
   "source": [
    "# with help first we calculate \"c\" y-intercept\n",
    "c = y1 - m*x1\n",
    "print(c)"
   ]
  },
  {
   "cell_type": "markdown",
   "id": "37427033",
   "metadata": {},
   "source": [
    "As we got slope \"m\" and y-intercept \"y\" values from student 2014 data.\n",
    "\n",
    "now we can predict my rank as we got all the values and data."
   ]
  },
  {
   "cell_type": "markdown",
   "id": "3f0a40f5",
   "metadata": {},
   "source": [
    "As in year 2015, my score is as below\n",
    "\n",
    "Board Percentile : 67.22\n",
    "\n",
    "Jee Main Percentile : 93.42\n",
    "\n",
    "Merit Percenile = 60% Board Percentile + 40% Jee Main Percentile\n",
    "\n",
    "Merit percentile = 77.70"
   ]
  },
  {
   "cell_type": "markdown",
   "id": "d7c639fd",
   "metadata": {},
   "source": [
    "## Predicting My Rank"
   ]
  },
  {
   "cell_type": "code",
   "execution_count": 58,
   "id": "cf2c42e7",
   "metadata": {},
   "outputs": [
    {
     "name": "stdout",
     "output_type": "stream",
     "text": [
      "My Predicted Merit Number is : 12856\n"
     ]
    }
   ],
   "source": [
    "# x is my merit percentile \n",
    "\n",
    "# y is my merit number \n",
    "\n",
    "# decreased the value of \"C\" by 25000 because in year 2014 59000 thousand student took admission in \n",
    "# engineering college based in Gujarat, India and where as in year 2015 around 56000 thousand \n",
    "# students going to take admission. ( i just did because i think 3000 student change slope little bit\n",
    "# but the difference in y-intercept could be anywhere between 20000 to 30000. It's just a random assumption )\n",
    "\n",
    "c = -2500 + 73610.53216201396\n",
    "\n",
    "\n",
    "x = 77.70\n",
    "\n",
    "y = round(m*x + c)\n",
    "\n",
    "print(\"My Predicted Merit Number is : \"+ str(y))"
   ]
  },
  {
   "cell_type": "markdown",
   "id": "ade334a8",
   "metadata": {},
   "source": [
    "\n",
    "I searched manually in \"college 2014.pdf\" which college i can get.\n",
    "\n",
    "My criteria of choosing this colleges was as follows:\n",
    "\n",
    "1. My predicted rank is 12856\n",
    "2. My father advised me to go to Government Engineering College, because they have good faculties, infrastructure and very very low tution fees.\n",
    "3. I was intrested in Electronics that time.\n",
    "4. I wanted to stay in same city i.e Ahmedabad.\n",
    "\n",
    "\n",
    "So, based on my predicted rank and criteria mentioned above, i shortlisted two college and courses is as follow:\n",
    "\n",
    "1. LDCE, Electronics and Communication Engineering\n",
    "2. VGEC, Electronics and Communication Engineering\n"
   ]
  },
  {
   "cell_type": "markdown",
   "id": "55ecd287",
   "metadata": {},
   "source": [
    "Two weeks after this predicted rank i got **my actual rank given by ACPC body that was 12753**.\n",
    "\n"
   ]
  },
  {
   "cell_type": "code",
   "execution_count": 59,
   "id": "ed8564c0",
   "metadata": {},
   "outputs": [
    {
     "name": "stdout",
     "output_type": "stream",
     "text": [
      "The difference between predicted rank and actual rank was : 103\n"
     ]
    }
   ],
   "source": [
    "y_a = 12753\n",
    "\n",
    "diff = abs(y - y_a)\n",
    "print(\"The difference between predicted rank and actual rank was : \" + str(diff))"
   ]
  },
  {
   "cell_type": "markdown",
   "id": "71ae0770",
   "metadata": {},
   "source": [
    "As i got my actual rank, i applied in these two colleges and managed to get admission in \n",
    "\n",
    "**VGEC, Electronics and Communication Engineering on August 2015.**"
   ]
  },
  {
   "cell_type": "markdown",
   "id": "b1e20309",
   "metadata": {},
   "source": [
    "In Sept 2020, I was successfully graduated from this Government Engineering College."
   ]
  },
  {
   "cell_type": "markdown",
   "id": "32249458",
   "metadata": {},
   "source": [
    "## Thank You."
   ]
  },
  {
   "cell_type": "code",
   "execution_count": null,
   "id": "4c7eaef7",
   "metadata": {},
   "outputs": [],
   "source": []
  }
 ],
 "metadata": {
  "kernelspec": {
   "display_name": "Python 3 (ipykernel)",
   "language": "python",
   "name": "python3"
  },
  "language_info": {
   "codemirror_mode": {
    "name": "ipython",
    "version": 3
   },
   "file_extension": ".py",
   "mimetype": "text/x-python",
   "name": "python",
   "nbconvert_exporter": "python",
   "pygments_lexer": "ipython3",
   "version": "3.9.12"
  }
 },
 "nbformat": 4,
 "nbformat_minor": 5
}
