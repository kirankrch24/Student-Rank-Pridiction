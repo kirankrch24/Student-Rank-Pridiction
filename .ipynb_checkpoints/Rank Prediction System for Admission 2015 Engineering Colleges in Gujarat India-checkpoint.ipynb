{
 "cells": [
  {
   "cell_type": "markdown",
   "id": "4bf7ff76",
   "metadata": {},
   "source": [
    "# Rank Prediction "
   ]
  },
  {
   "cell_type": "markdown",
   "id": "23bb07f2",
   "metadata": {},
   "source": [
    "## Data Information"
   ]
  },
  {
   "cell_type": "markdown",
   "id": "c6a68238",
   "metadata": {},
   "source": [
    "We possess the data of students from the year 2014, which is documented in a file named 'student 2014.pdf'.\n",
    "\n",
    "This data indicates the percentile ranking achieved by each student based on their scores in the JEE Main and Board examinations.\n",
    "\n",
    "The Merit Mark is a composite score derived from 60% of the Board percentile and 40% of the JEE Main percentile.\n",
    "\n",
    "The ranking of the students is determined based on the Merit Mark, which is used to assign their respective ranks. Subsequently, the students select engineering institutes in Gujarat, India based on their rank."
   ]
  },
  {
   "cell_type": "markdown",
   "id": "b9aeee9e",
   "metadata": {},
   "source": [
    "## Take values \n",
    "\n",
    "I'm taking two records from \"student 2014.pdf\".\n",
    "\n",
    "first record : \n",
    "second record : "
   ]
  },
  {
   "cell_type": "code",
   "execution_count": null,
   "id": "28e17f0a",
   "metadata": {},
   "outputs": [],
   "source": []
  },
  {
   "cell_type": "code",
   "execution_count": null,
   "id": "e2817525",
   "metadata": {},
   "outputs": [],
   "source": []
  },
  {
   "cell_type": "code",
   "execution_count": null,
   "id": "e74f40ef",
   "metadata": {},
   "outputs": [],
   "source": []
  },
  {
   "cell_type": "code",
   "execution_count": null,
   "id": "01c26426",
   "metadata": {},
   "outputs": [],
   "source": []
  },
  {
   "cell_type": "code",
   "execution_count": null,
   "id": "a1950908",
   "metadata": {},
   "outputs": [],
   "source": []
  }
 ],
 "metadata": {
  "kernelspec": {
   "display_name": "Python 3 (ipykernel)",
   "language": "python",
   "name": "python3"
  },
  "language_info": {
   "codemirror_mode": {
    "name": "ipython",
    "version": 3
   },
   "file_extension": ".py",
   "mimetype": "text/x-python",
   "name": "python",
   "nbconvert_exporter": "python",
   "pygments_lexer": "ipython3",
   "version": "3.9.12"
  }
 },
 "nbformat": 4,
 "nbformat_minor": 5
}
