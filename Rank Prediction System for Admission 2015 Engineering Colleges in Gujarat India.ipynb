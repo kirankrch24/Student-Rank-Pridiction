{
 "cells": [
  {
   "cell_type": "markdown",
   "id": "c6a68238",
   "metadata": {},
   "source": [
    "We have the data of student in year 2014.\n",
    "\n",
    "Merit Mark is percentile cobimned of 60% of Board percentile and 40% of JEE Main percentile.\n",
    "\n",
    "According to Merit Mark they assigned the rank. And according to rank, student choose engineering institute in Gujarat India."
   ]
  },
  {
   "cell_type": "markdown",
   "id": "eafb8c90",
   "metadata": {},
   "source": [
    "First we take two sample example from 2014\n",
    "\n",
    "first : \n",
    "second : "
   ]
  },
  {
   "cell_type": "code",
   "execution_count": null,
   "id": "2e3ad424",
   "metadata": {},
   "outputs": [],
   "source": []
  }
 ],
 "metadata": {
  "kernelspec": {
   "display_name": "Python 3 (ipykernel)",
   "language": "python",
   "name": "python3"
  },
  "language_info": {
   "codemirror_mode": {
    "name": "ipython",
    "version": 3
   },
   "file_extension": ".py",
   "mimetype": "text/x-python",
   "name": "python",
   "nbconvert_exporter": "python",
   "pygments_lexer": "ipython3",
   "version": "3.9.12"
  }
 },
 "nbformat": 4,
 "nbformat_minor": 5
}
